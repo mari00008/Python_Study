{
 "cells": [
  {
   "cell_type": "code",
   "execution_count": 1,
   "metadata": {},
   "outputs": [
    {
     "name": "stdout",
     "output_type": "stream",
     "text": [
      "75.0\n"
     ]
    }
   ],
   "source": [
    "#三角形の面積を計算する関数を定義する\n",
    "#base:底辺の長さ、height:高さ\n",
    "def triangle_area(base,height):\n",
    "    return base * height / 2\n",
    "\n",
    "#底辺の長さが10、高さ15三角形の面積を計算\n",
    "s = triangle_area(10,15)\n",
    "\n",
    "print(s)"
   ]
  },
  {
   "cell_type": "code",
   "execution_count": 3,
   "metadata": {},
   "outputs": [
    {
     "name": "stdout",
     "output_type": "stream",
     "text": [
      "None\n"
     ]
    }
   ],
   "source": [
    "def f(x):\n",
    "    x ** 2\n",
    "    \n",
    "print(f(2))"
   ]
  },
  {
   "cell_type": "code",
   "execution_count": 4,
   "metadata": {},
   "outputs": [
    {
     "name": "stdout",
     "output_type": "stream",
     "text": [
      "4\n"
     ]
    }
   ],
   "source": [
    "def f(x):\n",
    "    return(x ** 2)\n",
    "    \n",
    "print(f(2))"
   ]
  },
  {
   "cell_type": "code",
   "execution_count": 5,
   "metadata": {},
   "outputs": [
    {
     "name": "stdout",
     "output_type": "stream",
     "text": [
      "Python最高！\n"
     ]
    }
   ],
   "source": [
    "def my_message():\n",
    "    print(\"Python最高！\")\n",
    "    \n",
    "my_message()"
   ]
  },
  {
   "cell_type": "code",
   "execution_count": 10,
   "metadata": {},
   "outputs": [
    {
     "name": "stdout",
     "output_type": "stream",
     "text": [
      "v = (2, 4)\n",
      "w = ('ac', 'bd')\n"
     ]
    }
   ],
   "source": [
    "#要素同士を加える関数\n",
    "def vec_add(x,y):\n",
    "    return (x[0] + y[0],x[1] + y[1])\n",
    "\n",
    "#ベクトルの加算\n",
    "#引数をタプルで指定\n",
    "v = vec_add((0,1),(2,3))\n",
    "\n",
    "#文字列を連結\n",
    "#引数をリストで指定\n",
    "w = vec_add([\"a\",\"b\"],[\"c\",\"d\"])\n",
    "\n",
    "print(\"v = {}\".format(v))\n",
    "print(\"w = {}\".format(w))"
   ]
  },
  {
   "cell_type": "code",
   "execution_count": 12,
   "metadata": {},
   "outputs": [
    {
     "ename": "IndexError",
     "evalue": "tuple index out of range",
     "output_type": "error",
     "traceback": [
      "\u001b[1;31m---------------------------------------------------------------------------\u001b[0m",
      "\u001b[1;31mIndexError\u001b[0m                                Traceback (most recent call last)",
      "\u001b[1;32m<ipython-input-12-116674b7f711>\u001b[0m in \u001b[0;36m<module>\u001b[1;34m\u001b[0m\n\u001b[0;32m     11\u001b[0m \u001b[0mf2\u001b[0m \u001b[1;33m=\u001b[0m \u001b[0mlinear_func\u001b[0m\u001b[1;33m(\u001b[0m\u001b[1;36m3\u001b[0m\u001b[1;33m,\u001b[0m\u001b[1;36m5\u001b[0m\u001b[1;33m,\u001b[0m\u001b[1;36m11\u001b[0m\u001b[1;33m)\u001b[0m\u001b[1;33m\u001b[0m\u001b[1;33m\u001b[0m\u001b[0m\n\u001b[0;32m     12\u001b[0m \u001b[1;33m\u001b[0m\u001b[0m\n\u001b[1;32m---> 13\u001b[1;33m \u001b[0mprint\u001b[0m\u001b[1;33m(\u001b[0m\u001b[1;34m\"f1 = {1}, f2 = {2}\"\u001b[0m\u001b[1;33m.\u001b[0m\u001b[0mformat\u001b[0m\u001b[1;33m(\u001b[0m\u001b[0mf1\u001b[0m\u001b[1;33m,\u001b[0m \u001b[0mf2\u001b[0m\u001b[1;33m)\u001b[0m\u001b[1;33m)\u001b[0m\u001b[1;33m\u001b[0m\u001b[1;33m\u001b[0m\u001b[0m\n\u001b[0m",
      "\u001b[1;31mIndexError\u001b[0m: tuple index out of range"
     ]
    }
   ],
   "source": [
    "#1次関数を定義\n",
    "#xは必須引数、a,bはオプション引数\n",
    "def linear_func(x, a = 1, b = 0):\n",
    "    return a * x + b\n",
    "\n",
    "#x=2\n",
    "#a,bはデフォルト\n",
    "f1 = linear_func(2)\n",
    "\n",
    "#x = 3,a=5,b=11\n",
    "f2 = linear_func(3,5,11)\n",
    "\n",
    "print(\"f1 = {1}, f2 = {2}\".format(f1, f2))"
   ]
  },
  {
   "cell_type": "code",
   "execution_count": 15,
   "metadata": {},
   "outputs": [
    {
     "ename": "IndexError",
     "evalue": "tuple index out of range",
     "output_type": "error",
     "traceback": [
      "\u001b[1;31m---------------------------------------------------------------------------\u001b[0m",
      "\u001b[1;31mIndexError\u001b[0m                                Traceback (most recent call last)",
      "\u001b[1;32m<ipython-input-15-83d7b8aa7de8>\u001b[0m in \u001b[0;36m<module>\u001b[1;34m\u001b[0m\n\u001b[0;32m     13\u001b[0m \u001b[0mf2\u001b[0m \u001b[1;33m=\u001b[0m \u001b[0mlinear_func\u001b[0m\u001b[1;33m(\u001b[0m\u001b[1;36m3\u001b[0m\u001b[1;33m,\u001b[0m \u001b[1;36m5\u001b[0m\u001b[1;33m,\u001b[0m \u001b[1;36m11\u001b[0m\u001b[1;33m)\u001b[0m\u001b[1;33m\u001b[0m\u001b[1;33m\u001b[0m\u001b[0m\n\u001b[0;32m     14\u001b[0m \u001b[1;33m\u001b[0m\u001b[0m\n\u001b[1;32m---> 15\u001b[1;33m \u001b[0mprint\u001b[0m\u001b[1;33m(\u001b[0m\u001b[1;34m\"f1 = {1}, f2 = {2}\"\u001b[0m\u001b[1;33m.\u001b[0m\u001b[0mformat\u001b[0m\u001b[1;33m(\u001b[0m\u001b[0mf1\u001b[0m\u001b[1;33m,\u001b[0m \u001b[0mf2\u001b[0m\u001b[1;33m)\u001b[0m\u001b[1;33m)\u001b[0m\u001b[1;33m\u001b[0m\u001b[1;33m\u001b[0m\u001b[0m\n\u001b[0m",
      "\u001b[1;31mIndexError\u001b[0m: tuple index out of range"
     ]
    }
   ],
   "source": [
    "# PYTHON_FUNCTION_05\n",
    "\n",
    "# 1 次関数を定義\n",
    "# x は必須引数、a, b はオプション引数\n",
    "def linear_func(x, a = 1, b = 0):\n",
    "    return a * x + b\n",
    "\n",
    "# x = 2 を指定\n",
    "# a, b はデフォルト値 (a = 1, b = 0)\n",
    "f1 = linear_func(2)\n",
    "\n",
    "# x = 3, a = 5, b = 11 を指定\n",
    "f2 = linear_func(3, 5, 11)\n",
    "\n",
    "print(\"f1 = {1}, f2 = {2}\".format(f1, f2))"
   ]
  },
  {
   "cell_type": "code",
   "execution_count": 16,
   "metadata": {},
   "outputs": [
    {
     "name": "stdout",
     "output_type": "stream",
     "text": [
      "18\n"
     ]
    }
   ],
   "source": [
    "#1次引数を定義\n",
    "#xは必須引数、a,bはオプション引数\n",
    "def linear_func(x,a=1,b=0):\n",
    "    return a * x + b\n",
    "\n",
    "#aは省略、bはキーワードで指定\n",
    "y =linear_func(10,b=8)\n",
    "\n",
    "print(y)"
   ]
  },
  {
   "cell_type": "code",
   "execution_count": 17,
   "metadata": {},
   "outputs": [
    {
     "name": "stdout",
     "output_type": "stream",
     "text": [
      "20\n"
     ]
    }
   ],
   "source": [
    "# PYTHON_FUNCTION_07\n",
    "\n",
    "# 1 次関数を定義\n",
    "# x は必須引数、 a, b はオプション引数\n",
    "def linear_func(x, a = 1, b = 0):\n",
    "    return a * x + b\n",
    "\n",
    "# 引数 b, x をキーワードで指定\n",
    "y = linear_func(b = 9, x = 11)\n",
    "\n",
    "print(y)"
   ]
  },
  {
   "cell_type": "code",
   "execution_count": 18,
   "metadata": {},
   "outputs": [
    {
     "name": "stdout",
     "output_type": "stream",
     "text": [
      "('a', 'b', 'c')\n"
     ]
    }
   ],
   "source": [
    "#指定された引数をタプルで返す関数を定義\n",
    "#paramはparameter\n",
    "def param_show(*vals):\n",
    "    return(vals)\n",
    "x = param_show(\"a\",\"b\",\"c\")\n",
    "\n",
    "print(x)"
   ]
  },
  {
   "cell_type": "code",
   "execution_count": 23,
   "metadata": {},
   "outputs": [
    {
     "name": "stdout",
     "output_type": "stream",
     "text": [
      "12\n"
     ]
    }
   ],
   "source": [
    "#渡された引数すべて掛け合わせ\n",
    "def num_product(*vals):\n",
    "    p = 1\n",
    "    for ct in vals:\n",
    "        p *= vals[ct-1]\n",
    "    return p\n",
    "    \n",
    "x = num_product(2,2,3)\n",
    "\n",
    "print(x)"
   ]
  },
  {
   "cell_type": "code",
   "execution_count": 24,
   "metadata": {},
   "outputs": [
    {
     "name": "stdout",
     "output_type": "stream",
     "text": [
      "{'p': 1, 'q': 2, 'r': 3}\n"
     ]
    }
   ],
   "source": [
    "#指定された因数をディクショナリで返す関数\n",
    "def param_show(**vals):\n",
    "    return(vals)\n",
    "\n",
    "x = param_show(p=1,q=2,r=3)\n",
    "\n",
    "print(x)"
   ]
  },
  {
   "cell_type": "code",
   "execution_count": 26,
   "metadata": {},
   "outputs": [
    {
     "name": "stdout",
     "output_type": "stream",
     "text": [
      "24  3\n"
     ]
    }
   ],
   "source": [
    "my_str = \"Pythonでラプラス変換する方法を調べています\"\n",
    "my_list =[\"古典力学\",\"解析力学\",\"量子力学\"]\n",
    "\n",
    "#文字数を取得\n",
    "s = len(my_str)\n",
    "\n",
    "#要素の数を取得\n",
    "t = len(my_list)\n",
    "\n",
    "print(s,\"\",t)"
   ]
  },
  {
   "cell_type": "code",
   "execution_count": 27,
   "metadata": {},
   "outputs": [
    {
     "name": "stdout",
     "output_type": "stream",
     "text": [
      "100\n"
     ]
    }
   ],
   "source": [
    "#-100の絶対値を取得\n",
    "x = abs(-100)\n",
    "\n",
    "print(x)"
   ]
  },
  {
   "cell_type": "code",
   "execution_count": 28,
   "metadata": {},
   "outputs": [
    {
     "name": "stdout",
     "output_type": "stream",
     "text": [
      "172\n"
     ]
    }
   ],
   "source": [
    "#初項2,交差3の等差数列のリスト\n",
    "a_seq = [2,5,1,6,1,146,1,2,2,3,2,1]\n",
    "\n",
    "#等差数列の和を求める\n",
    "s_a_seq =sum(a_seq)\n",
    "\n",
    "print(s_a_seq)"
   ]
  },
  {
   "cell_type": "code",
   "execution_count": null,
   "metadata": {},
   "outputs": [],
   "source": []
  }
 ],
 "metadata": {
  "kernelspec": {
   "display_name": "Python 3",
   "language": "python",
   "name": "python3"
  },
  "language_info": {
   "codemirror_mode": {
    "name": "ipython",
    "version": 3
   },
   "file_extension": ".py",
   "mimetype": "text/x-python",
   "name": "python",
   "nbconvert_exporter": "python",
   "pygments_lexer": "ipython3",
   "version": "3.7.4"
  }
 },
 "nbformat": 4,
 "nbformat_minor": 2
}
