{
 "cells": [
  {
   "cell_type": "code",
   "execution_count": 1,
   "metadata": {},
   "outputs": [
    {
     "name": "stdout",
     "output_type": "stream",
     "text": [
      "100\n",
      "Python\n",
      "Anaconda\n"
     ]
    }
   ],
   "source": [
    "print(100)\n",
    "print('Python')\n",
    "print(\"Anaconda\")"
   ]
  },
  {
   "cell_type": "code",
   "execution_count": 2,
   "metadata": {},
   "outputs": [
    {
     "name": "stdout",
     "output_type": "stream",
     "text": [
      "NumPy SciPy SymPy\n"
     ]
    }
   ],
   "source": [
    "print(\"NumPy\",'SciPy','SymPy')"
   ]
  },
  {
   "cell_type": "code",
   "execution_count": 3,
   "metadata": {},
   "outputs": [
    {
     "name": "stdout",
     "output_type": "stream",
     "text": [
      "NumPy,SciPy,SymPy\n"
     ]
    }
   ],
   "source": [
    "print(\"NumPy\",\"SciPy\",\"SymPy\", sep = \",\")"
   ]
  },
  {
   "cell_type": "code",
   "execution_count": 4,
   "metadata": {},
   "outputs": [
    {
     "name": "stdout",
     "output_type": "stream",
     "text": [
      "NumPy, SciPy, SymPy\n"
     ]
    }
   ],
   "source": [
    "print('NumPy', 'SciPy', 'SymPy', sep = \", \")"
   ]
  },
  {
   "cell_type": "code",
   "execution_count": 5,
   "metadata": {},
   "outputs": [
    {
     "name": "stdout",
     "output_type": "stream",
     "text": [
      "['カプセル化', '継承', 'ポリモーフィズム', '抽象化']\n"
     ]
    }
   ],
   "source": [
    "x = [\"カプセル化\",\"継承\",\"ポリモーフィズム\",\"抽象化\"]\n",
    "print(x)"
   ]
  },
  {
   "cell_type": "code",
   "execution_count": 6,
   "metadata": {},
   "outputs": [
    {
     "name": "stdout",
     "output_type": "stream",
     "text": [
      "BlogCat\n",
      "BlogCat\n",
      "BlogCat\n"
     ]
    }
   ],
   "source": [
    "for t in range(3):\n",
    "    print(\"BlogCat\")"
   ]
  },
  {
   "cell_type": "code",
   "execution_count": 7,
   "metadata": {},
   "outputs": [
    {
     "name": "stdout",
     "output_type": "stream",
     "text": [
      "Python Python Python "
     ]
    }
   ],
   "source": [
    "for t in range(3):\n",
    "    print(\"Python\", end = \" \")"
   ]
  },
  {
   "cell_type": "code",
   "execution_count": 9,
   "metadata": {},
   "outputs": [
    {
     "name": "stdout",
     "output_type": "stream",
     "text": [
      "a\n",
      "a\n"
     ]
    }
   ],
   "source": [
    "x = input()\n",
    "\n",
    "print(x)"
   ]
  },
  {
   "cell_type": "code",
   "execution_count": 10,
   "metadata": {},
   "outputs": [
    {
     "name": "stdout",
     "output_type": "stream",
     "text": [
      "データを入力してください:Python\n",
      "Python\n"
     ]
    }
   ],
   "source": [
    "x = input (\"データを入力してください:\")\n",
    "\n",
    "print(x)"
   ]
  },
  {
   "cell_type": "code",
   "execution_count": 11,
   "metadata": {},
   "outputs": [
    {
     "name": "stdout",
     "output_type": "stream",
     "text": [
      "数値を入力してください:10\n",
      "20.5\n"
     ]
    }
   ],
   "source": [
    "x = input(\"数値を入力してください:\")\n",
    "\n",
    "x = float(x)+10.5\n",
    "print(x)"
   ]
  },
  {
   "cell_type": "code",
   "execution_count": null,
   "metadata": {},
   "outputs": [],
   "source": []
  }
 ],
 "metadata": {
  "kernelspec": {
   "display_name": "Python 3",
   "language": "python",
   "name": "python3"
  },
  "language_info": {
   "codemirror_mode": {
    "name": "ipython",
    "version": 3
   },
   "file_extension": ".py",
   "mimetype": "text/x-python",
   "name": "python",
   "nbconvert_exporter": "python",
   "pygments_lexer": "ipython3",
   "version": "3.7.4"
  }
 },
 "nbformat": 4,
 "nbformat_minor": 2
}
